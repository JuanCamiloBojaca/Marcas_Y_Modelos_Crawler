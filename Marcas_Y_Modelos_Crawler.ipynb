{
 "cells": [
  {
   "cell_type": "code",
   "execution_count": 1,
   "metadata": {},
   "outputs": [],
   "source": [
    "from selenium import webdriver\n",
    "from selenium.webdriver.common.keys import Keys\n",
    "import pandas as pd"
   ]
  },
  {
   "cell_type": "code",
   "execution_count": 2,
   "metadata": {},
   "outputs": [],
   "source": [
    "page = 'https://www.carroya.com/marcas-carros/'\n",
    "driver = webdriver.Firefox()\n",
    "driver.get(page)\n",
    "lista = driver.find_elements_by_tag_name('section')\n",
    "marcas = []\n",
    "for page in lista[0:15]:\n",
    "    marca = {}\n",
    "    marca['name'] = page.find_element_by_tag_name('dd').get_attribute('innerHTML')\n",
    "    modelos = page.find_element_by_tag_name('ul').find_elements_by_tag_name('li')\n",
    "    modelos = [modeloDrive.find_element_by_tag_name('a').get_attribute('innerHTML').strip() for  modeloDrive in modelos]\n",
    "    marca['modelos'] = modelos\n",
    "    marcas.append(marca)\n",
    "driver.close()"
   ]
  },
  {
   "cell_type": "code",
   "execution_count": 3,
   "metadata": {},
   "outputs": [],
   "source": [
    "table = [[marca['name'],modelo] for marca in marcas for modelo in marca['modelos'] ]\n",
    "df = pd.DataFrame(table, columns = ['Marca', 'Modelo']) \n",
    "df.to_csv('marcas.csv',sep=';')"
   ]
  }
 ],
 "metadata": {
  "kernelspec": {
   "display_name": "Python 3",
   "language": "python",
   "name": "python3"
  },
  "language_info": {
   "codemirror_mode": {
    "name": "ipython",
    "version": 3
   },
   "file_extension": ".py",
   "mimetype": "text/x-python",
   "name": "python",
   "nbconvert_exporter": "python",
   "pygments_lexer": "ipython3",
   "version": "3.7.3"
  }
 },
 "nbformat": 4,
 "nbformat_minor": 2
}
